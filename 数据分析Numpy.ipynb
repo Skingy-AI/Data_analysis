{
 "cells": [
  {
   "cell_type": "markdown",
   "id": "683bad61",
   "metadata": {},
   "source": [
    "## 1.1 Numpy的基本操作"
   ]
  },
  {
   "cell_type": "markdown",
   "id": "99eb7d0f",
   "metadata": {},
   "source": [
    "### 1.1.1 array数组"
   ]
  },
  {
   "cell_type": "code",
   "execution_count": 1,
   "id": "04fa8e65",
   "metadata": {},
   "outputs": [
    {
     "name": "stdout",
     "output_type": "stream",
     "text": [
      "<class 'numpy.ndarray'>\n"
     ]
    }
   ],
   "source": [
    "import numpy as np\n",
    "array = np.array([1,2,3,4,5])\n",
    "print(type(array))"
   ]
  },
  {
   "cell_type": "code",
   "execution_count": 5,
   "id": "2f96b5a0",
   "metadata": {},
   "outputs": [
    {
     "name": "stdout",
     "output_type": "stream",
     "text": [
      "[2 3 4 5 6]\n"
     ]
    }
   ],
   "source": [
    "array2=array+1\n",
    "print(array2)"
   ]
  },
  {
   "cell_type": "code",
   "execution_count": 7,
   "id": "649aeb0e",
   "metadata": {},
   "outputs": [
    {
     "name": "stdout",
     "output_type": "stream",
     "text": [
      "[ 3  5  7  9 11]\n"
     ]
    }
   ],
   "source": [
    "print(array2+array)"
   ]
  },
  {
   "cell_type": "code",
   "execution_count": 9,
   "id": "ef1a8065",
   "metadata": {},
   "outputs": [
    {
     "name": "stdout",
     "output_type": "stream",
     "text": [
      "[ 2  6 12 20 30]\n"
     ]
    }
   ],
   "source": [
    "print(array*array2)"
   ]
  },
  {
   "cell_type": "markdown",
   "id": "ab5284a2",
   "metadata": {},
   "source": [
    "### 1.1.2 数组特性"
   ]
  },
  {
   "cell_type": "code",
   "execution_count": 12,
   "id": "d012b266",
   "metadata": {},
   "outputs": [
    {
     "data": {
      "text/plain": [
       "(5,)"
      ]
     },
     "execution_count": 12,
     "metadata": {},
     "output_type": "execute_result"
    }
   ],
   "source": [
    "array = np.array([1,2,3,4,5])\n",
    "array.shape"
   ]
  },
  {
   "cell_type": "code",
   "execution_count": 19,
   "id": "2d485921",
   "metadata": {},
   "outputs": [
    {
     "data": {
      "text/plain": [
       "array([[1, 2, 3],\n",
       "       [4, 5, 6]])"
      ]
     },
     "execution_count": 19,
     "metadata": {},
     "output_type": "execute_result"
    }
   ],
   "source": [
    "np.array([[1,2,3],[4,5,6]])"
   ]
  },
  {
   "cell_type": "code",
   "execution_count": 20,
   "id": "39118337",
   "metadata": {},
   "outputs": [
    {
     "name": "stdout",
     "output_type": "stream",
     "text": [
      "[1 2 3 4 5]\n"
     ]
    }
   ],
   "source": [
    "tang_list = [1,2,3,4,5]\n",
    "tang_array = np.array(tang_list)\n",
    "print(tang_array)"
   ]
  },
  {
   "cell_type": "code",
   "execution_count": 21,
   "id": "e3c4a104",
   "metadata": {},
   "outputs": [
    {
     "name": "stdout",
     "output_type": "stream",
     "text": [
      "['1' '2' '3' '4' '5']\n"
     ]
    }
   ],
   "source": [
    "tang_list=[1,2,3,4,'5']\n",
    "tang_array=np.array(tang_list)\n",
    "print(tang_array)"
   ]
  },
  {
   "cell_type": "code",
   "execution_count": 24,
   "id": "762ea158",
   "metadata": {},
   "outputs": [
    {
     "name": "stdout",
     "output_type": "stream",
     "text": [
      "[1. 2. 3. 4. 5.]\n"
     ]
    }
   ],
   "source": [
    "tang_list=[1,2,3,4,5.0]\n",
    "tang_array=np.array(tang_list)\n",
    "print(tang_array)\n",
    "# 在ndarray中所有元素必须是同一类型，否则会自动向下转换，int-->float-->str"
   ]
  },
  {
   "cell_type": "markdown",
   "id": "052bdc84",
   "metadata": {},
   "source": [
    "### 1.1.3 数组属性操作"
   ]
  },
  {
   "cell_type": "code",
   "execution_count": 26,
   "id": "2f366167",
   "metadata": {},
   "outputs": [
    {
     "data": {
      "text/plain": [
       "numpy.ndarray"
      ]
     },
     "execution_count": 26,
     "metadata": {},
     "output_type": "execute_result"
    }
   ],
   "source": [
    "type(tang_array)"
   ]
  },
  {
   "cell_type": "code",
   "execution_count": 28,
   "id": "034a40ef",
   "metadata": {},
   "outputs": [
    {
     "data": {
      "text/plain": [
       "dtype('int32')"
      ]
     },
     "execution_count": 28,
     "metadata": {},
     "output_type": "execute_result"
    }
   ],
   "source": [
    "tang_list = [1,2,3,4,5]\n",
    "tang_array = np.array(tang_list)\n",
    "tang_array.dtype"
   ]
  },
  {
   "cell_type": "code",
   "execution_count": 29,
   "id": "97630dfb",
   "metadata": {},
   "outputs": [
    {
     "data": {
      "text/plain": [
       "5"
      ]
     },
     "execution_count": 29,
     "metadata": {},
     "output_type": "execute_result"
    }
   ],
   "source": [
    "# 打印当前数组中元素个数\n",
    "tang_array.size"
   ]
  },
  {
   "cell_type": "code",
   "execution_count": 31,
   "id": "1d011dec",
   "metadata": {},
   "outputs": [
    {
     "data": {
      "text/plain": [
       "1"
      ]
     },
     "execution_count": 31,
     "metadata": {},
     "output_type": "execute_result"
    }
   ],
   "source": [
    "# 打印当前数据维度\n",
    "tang_array.ndim"
   ]
  },
  {
   "cell_type": "markdown",
   "id": "a4b40d52",
   "metadata": {},
   "source": [
    "## 1.2 索引与切片"
   ]
  },
  {
   "cell_type": "markdown",
   "id": "226700a7",
   "metadata": {},
   "source": [
    "### 1.2.1 数值索引"
   ]
  },
  {
   "cell_type": "code",
   "execution_count": 33,
   "id": "447f02f2",
   "metadata": {},
   "outputs": [
    {
     "data": {
      "text/plain": [
       "array([2, 3])"
      ]
     },
     "execution_count": 33,
     "metadata": {},
     "output_type": "execute_result"
    }
   ],
   "source": [
    "tang_list = [1,2,3,4,5]\n",
    "tang_array = np.array(tang_list)\n",
    "tang_array[1:3]"
   ]
  },
  {
   "cell_type": "code",
   "execution_count": 34,
   "id": "41708007",
   "metadata": {
    "scrolled": true
   },
   "outputs": [
    {
     "data": {
      "text/plain": [
       "array([4, 5])"
      ]
     },
     "execution_count": 34,
     "metadata": {},
     "output_type": "execute_result"
    }
   ],
   "source": [
    "tang_array[-2:]"
   ]
  },
  {
   "cell_type": "code",
   "execution_count": 37,
   "id": "a79b9394",
   "metadata": {},
   "outputs": [
    {
     "name": "stdout",
     "output_type": "stream",
     "text": [
      "[[ 1  2  3]\n",
      " [ 4 10  6]\n",
      " [ 7  8  9]]\n"
     ]
    }
   ],
   "source": [
    "tang_array=np.array([[1,2,3],[4,5,6],[7,8,9]])\n",
    "tang_array[1,1]=10\n",
    "print(tang_array)"
   ]
  },
  {
   "cell_type": "code",
   "execution_count": 39,
   "id": "28c43d2a",
   "metadata": {},
   "outputs": [
    {
     "data": {
      "text/plain": [
       "array([ 4, 10,  6])"
      ]
     },
     "execution_count": 39,
     "metadata": {},
     "output_type": "execute_result"
    }
   ],
   "source": [
    "# 去第二行数据\n",
    "tang_array[1]"
   ]
  },
  {
   "cell_type": "code",
   "execution_count": 41,
   "id": "838ea345",
   "metadata": {},
   "outputs": [
    {
     "data": {
      "text/plain": [
       "array([[ 1,  2,  3],\n",
       "       [ 4, 10,  6]])"
      ]
     },
     "execution_count": 41,
     "metadata": {},
     "output_type": "execute_result"
    }
   ],
   "source": [
    "tang_array[:-1]"
   ]
  },
  {
   "cell_type": "code",
   "execution_count": 43,
   "id": "230a3d65",
   "metadata": {},
   "outputs": [
    {
     "data": {
      "text/plain": [
       "array([ 2, 10,  8])"
      ]
     },
     "execution_count": 43,
     "metadata": {},
     "output_type": "execute_result"
    }
   ],
   "source": [
    "# 取第二列数据\n",
    "tang_array[:,1]"
   ]
  },
  {
   "cell_type": "markdown",
   "id": "e16905d8",
   "metadata": {},
   "source": [
    "### 1.2.2 bool索引"
   ]
  },
  {
   "cell_type": "code",
   "execution_count": 45,
   "id": "9c565049",
   "metadata": {},
   "outputs": [
    {
     "name": "stdout",
     "output_type": "stream",
     "text": [
      "[ 0 10 20 30 40 50 60 70 80 90]\n"
     ]
    }
   ],
   "source": [
    "tang_array=np.arange(0,100,10)\n",
    "print(tang_array)"
   ]
  },
  {
   "cell_type": "code",
   "execution_count": 52,
   "id": "1c5bb144",
   "metadata": {},
   "outputs": [
    {
     "name": "stdout",
     "output_type": "stream",
     "text": [
      "[False False False  True  True  True False False  True  True]\n"
     ]
    }
   ],
   "source": [
    "mask=np.array([0,0,0,1,1,1,0,0,1,1],dtype=bool)\n",
    "print(mask)"
   ]
  },
  {
   "cell_type": "code",
   "execution_count": 51,
   "id": "41124856",
   "metadata": {
    "scrolled": true
   },
   "outputs": [
    {
     "name": "stdout",
     "output_type": "stream",
     "text": [
      "[30 40 50 80 90]\n"
     ]
    }
   ],
   "source": [
    "print(tang_array[mask])"
   ]
  },
  {
   "cell_type": "code",
   "execution_count": 59,
   "id": "65983db8",
   "metadata": {},
   "outputs": [
    {
     "name": "stdout",
     "output_type": "stream",
     "text": [
      "[0.85889519 0.64893104 0.87862015 0.72719832 0.37531876 0.56869146\n",
      " 0.49314765 0.03186637 0.45639461 0.71584833]\n"
     ]
    }
   ],
   "source": [
    "random_array=np.random.rand(10)\n",
    "# rand(10)表示在[0,1）区间上随机选择10个数\n",
    "print(random_array)"
   ]
  },
  {
   "cell_type": "code",
   "execution_count": 61,
   "id": "7edef407",
   "metadata": {},
   "outputs": [
    {
     "name": "stdout",
     "output_type": "stream",
     "text": [
      "[ True  True  True  True False  True False False False  True]\n"
     ]
    }
   ],
   "source": [
    "mask=random_array>0.5\n",
    "print(mask)"
   ]
  },
  {
   "cell_type": "code",
   "execution_count": 63,
   "id": "339c807a",
   "metadata": {},
   "outputs": [
    {
     "data": {
      "text/plain": [
       "(array([3, 4], dtype=int64),)"
      ]
     },
     "execution_count": 63,
     "metadata": {},
     "output_type": "execute_result"
    }
   ],
   "source": [
    "tang_array=np.array([10,20,30,40,50])\n",
    "# 找到符合要求的索引位置\n",
    "np.where(tang_array>30)"
   ]
  },
  {
   "cell_type": "code",
   "execution_count": 66,
   "id": "b1917976",
   "metadata": {},
   "outputs": [
    {
     "data": {
      "text/plain": [
       "array([40, 50])"
      ]
     },
     "execution_count": 66,
     "metadata": {},
     "output_type": "execute_result"
    }
   ],
   "source": [
    "# 按照满足要求的索引来选择元素\n",
    "tang_array[np.where(tang_array>30)]"
   ]
  },
  {
   "cell_type": "code",
   "execution_count": 67,
   "id": "fe6f7c4d",
   "metadata": {},
   "outputs": [
    {
     "data": {
      "text/plain": [
       "array([ True,  True,  True, False])"
      ]
     },
     "execution_count": 67,
     "metadata": {},
     "output_type": "execute_result"
    }
   ],
   "source": [
    "y=np.array([1,1,1,4])\n",
    "x=np.array([1,1,1,2])\n",
    "x==y"
   ]
  },
  {
   "cell_type": "code",
   "execution_count": 68,
   "id": "9e93f4a5",
   "metadata": {},
   "outputs": [
    {
     "data": {
      "text/plain": [
       "array([ True,  True,  True,  True])"
      ]
     },
     "execution_count": 68,
     "metadata": {},
     "output_type": "execute_result"
    }
   ],
   "source": [
    "np.logical_and(x,y)"
   ]
  },
  {
   "cell_type": "code",
   "execution_count": 70,
   "id": "783f19cb",
   "metadata": {
    "scrolled": true
   },
   "outputs": [
    {
     "data": {
      "text/plain": [
       "array([ True,  True,  True,  True])"
      ]
     },
     "execution_count": 70,
     "metadata": {},
     "output_type": "execute_result"
    }
   ],
   "source": [
    "np.logical_or(x,y)"
   ]
  },
  {
   "cell_type": "markdown",
   "id": "831306a7",
   "metadata": {},
   "source": [
    "## 1.3 数据类型与数值计算"
   ]
  },
  {
   "cell_type": "markdown",
   "id": "6b1b90ba",
   "metadata": {},
   "source": [
    "### 1.3.1 数据类型"
   ]
  },
  {
   "cell_type": "code",
   "execution_count": 72,
   "id": "ae6b014e",
   "metadata": {},
   "outputs": [
    {
     "name": "stdout",
     "output_type": "stream",
     "text": [
      "[1. 2. 3. 4. 5.]\n"
     ]
    }
   ],
   "source": [
    "tang_array=np.array([1,2,3,4,5],dtype=np.float32)\n",
    "print(tang_array)"
   ]
  },
  {
   "cell_type": "code",
   "execution_count": 73,
   "id": "193cef6d",
   "metadata": {},
   "outputs": [
    {
     "data": {
      "text/plain": [
       "dtype('float32')"
      ]
     },
     "execution_count": 73,
     "metadata": {},
     "output_type": "execute_result"
    }
   ],
   "source": [
    "tang_array.dtype"
   ]
  },
  {
   "cell_type": "code",
   "execution_count": 83,
   "id": "4230009b",
   "metadata": {},
   "outputs": [
    {
     "name": "stdout",
     "output_type": "stream",
     "text": [
      "['1' '10' '3.5' 'str']\n"
     ]
    }
   ],
   "source": [
    "import numpy as np\n",
    "# tang_array=np.array(['1','10','3.5','str'],dtype=np.object)\n",
    "tang_array=np.array(['1','10','3.5','str'])\n",
    "print(tang_array)"
   ]
  },
  {
   "cell_type": "code",
   "execution_count": 84,
   "id": "715a80f2",
   "metadata": {},
   "outputs": [
    {
     "name": "stdout",
     "output_type": "stream",
     "text": [
      "[1. 2. 3. 4. 5.]\n"
     ]
    }
   ],
   "source": [
    "tang_array=np.array([1,2,3,4,5])\n",
    "tang_array2=np.asarray(tang_array,dtype=np.float32)\n",
    "print(tang_array2)"
   ]
  },
  {
   "cell_type": "markdown",
   "id": "4b063932",
   "metadata": {},
   "source": [
    "### 1.3.2 复制与赋值"
   ]
  },
  {
   "cell_type": "code",
   "execution_count": 6,
   "id": "8d4e4f79",
   "metadata": {
    "scrolled": false
   },
   "outputs": [
    {
     "name": "stdout",
     "output_type": "stream",
     "text": [
      "[[  1   2   3]\n",
      " [  4 100   6]\n",
      " [  7   8   9]] \n",
      "\n",
      "[[  1   2   3]\n",
      " [  4 100   6]\n",
      " [  7   8   9]]\n"
     ]
    }
   ],
   "source": [
    "import numpy as np\n",
    "tang_array=np.array([[1,2,3],[4,5,6],[7,8,9]])\n",
    "tang_array2=tang_array\n",
    "tang_array2[1,1]=100\n",
    "print(tang_array2,'\\n')\n",
    "print(tang_array)"
   ]
  },
  {
   "cell_type": "code",
   "execution_count": 7,
   "id": "7262b401",
   "metadata": {
    "scrolled": false
   },
   "outputs": [
    {
     "name": "stdout",
     "output_type": "stream",
     "text": [
      "[[  1   2   3]\n",
      " [  4 100   6]\n",
      " [  7   8   9]]\n",
      "[[    1     2     3]\n",
      " [    4 10000     6]\n",
      " [    7     8     9]]\n"
     ]
    }
   ],
   "source": [
    "tang_array2=tang_array.copy()\n",
    "tang_array2[1,1]=10000\n",
    "print(tang_array)\n",
    "print(tang_array2)"
   ]
  },
  {
   "cell_type": "markdown",
   "id": "9789caa6",
   "metadata": {},
   "source": [
    "### 1.3.3 数值运算"
   ]
  },
  {
   "cell_type": "code",
   "execution_count": 8,
   "id": "34f0f361",
   "metadata": {
    "scrolled": true
   },
   "outputs": [
    {
     "data": {
      "text/plain": [
       "21"
      ]
     },
     "execution_count": 8,
     "metadata": {},
     "output_type": "execute_result"
    }
   ],
   "source": [
    "tang_array=np.array([[1,2,3],[4,5,6]])\n",
    "np.sum(tang_array)"
   ]
  },
  {
   "cell_type": "code",
   "execution_count": 9,
   "id": "6a2693d3",
   "metadata": {},
   "outputs": [
    {
     "data": {
      "text/plain": [
       "array([5, 7, 9])"
      ]
     },
     "execution_count": 9,
     "metadata": {},
     "output_type": "execute_result"
    }
   ],
   "source": [
    "# axis参数表示按照第几维度进行计算\n",
    "np.sum(tang_array,axis=0)"
   ]
  },
  {
   "cell_type": "code",
   "execution_count": 10,
   "id": "592a69ba",
   "metadata": {},
   "outputs": [
    {
     "data": {
      "text/plain": [
       "array([ 6, 15])"
      ]
     },
     "execution_count": 10,
     "metadata": {},
     "output_type": "execute_result"
    }
   ],
   "source": [
    "np.sum(tang_array,axis=1)"
   ]
  },
  {
   "cell_type": "code",
   "execution_count": 11,
   "id": "f05ee7e6",
   "metadata": {},
   "outputs": [
    {
     "data": {
      "text/plain": [
       "720"
      ]
     },
     "execution_count": 11,
     "metadata": {},
     "output_type": "execute_result"
    }
   ],
   "source": [
    "# 各个元素累乘\n",
    "tang_array.prod()"
   ]
  },
  {
   "cell_type": "code",
   "execution_count": 12,
   "id": "1541b5aa",
   "metadata": {},
   "outputs": [
    {
     "data": {
      "text/plain": [
       "array([ 4, 10, 18])"
      ]
     },
     "execution_count": 12,
     "metadata": {},
     "output_type": "execute_result"
    }
   ],
   "source": [
    "tang_array.prod(axis=0)"
   ]
  },
  {
   "cell_type": "code",
   "execution_count": 13,
   "id": "9d36d30d",
   "metadata": {},
   "outputs": [
    {
     "data": {
      "text/plain": [
       "array([  6, 120])"
      ]
     },
     "execution_count": 13,
     "metadata": {},
     "output_type": "execute_result"
    }
   ],
   "source": [
    "tang_array.prod(axis=1)"
   ]
  },
  {
   "cell_type": "code",
   "execution_count": 14,
   "id": "baa4a878",
   "metadata": {},
   "outputs": [
    {
     "data": {
      "text/plain": [
       "1"
      ]
     },
     "execution_count": 14,
     "metadata": {},
     "output_type": "execute_result"
    }
   ],
   "source": [
    "# 求元素中的最小值\n",
    "tang_array.min()"
   ]
  },
  {
   "cell_type": "code",
   "execution_count": 15,
   "id": "5dc369db",
   "metadata": {},
   "outputs": [
    {
     "data": {
      "text/plain": [
       "array([1, 2, 3])"
      ]
     },
     "execution_count": 15,
     "metadata": {},
     "output_type": "execute_result"
    }
   ],
   "source": [
    "tang_array.min(axis=0)"
   ]
  },
  {
   "cell_type": "code",
   "execution_count": 16,
   "id": "778f5f63",
   "metadata": {},
   "outputs": [
    {
     "data": {
      "text/plain": [
       "array([1, 4])"
      ]
     },
     "execution_count": 16,
     "metadata": {},
     "output_type": "execute_result"
    }
   ],
   "source": [
    "tang_array.min(axis=1)"
   ]
  },
  {
   "cell_type": "code",
   "execution_count": 17,
   "id": "e220e3e1",
   "metadata": {},
   "outputs": [
    {
     "data": {
      "text/plain": [
       "3.5"
      ]
     },
     "execution_count": 17,
     "metadata": {},
     "output_type": "execute_result"
    }
   ],
   "source": [
    "# 平均值\n",
    "tang_array.mean()"
   ]
  },
  {
   "cell_type": "code",
   "execution_count": 18,
   "id": "23e0dbc7",
   "metadata": {},
   "outputs": [
    {
     "data": {
      "text/plain": [
       "array([2.5, 3.5, 4.5])"
      ]
     },
     "execution_count": 18,
     "metadata": {},
     "output_type": "execute_result"
    }
   ],
   "source": [
    "tang_array.mean(axis=0)"
   ]
  },
  {
   "cell_type": "code",
   "execution_count": 19,
   "id": "dfd1cef0",
   "metadata": {},
   "outputs": [
    {
     "name": "stdout",
     "output_type": "stream",
     "text": [
      "[2. 5.]\n",
      "[2 5]\n"
     ]
    }
   ],
   "source": [
    "tang_array.mean(axis=1)\n",
    "print(tang_array.mean(axis=1))\n",
    "tang_array2=np.asarray(tang_array.mean(axis=1),dtype=np.int32)\n",
    "print(tang_array2)"
   ]
  },
  {
   "cell_type": "code",
   "execution_count": 20,
   "id": "6a23ea25",
   "metadata": {},
   "outputs": [
    {
     "data": {
      "text/plain": [
       "1.707825127659933"
      ]
     },
     "execution_count": 20,
     "metadata": {},
     "output_type": "execute_result"
    }
   ],
   "source": [
    "# 求标准差\n",
    "tang_array.std()"
   ]
  },
  {
   "cell_type": "code",
   "execution_count": 22,
   "id": "22d8cc4e",
   "metadata": {},
   "outputs": [
    {
     "data": {
      "text/plain": [
       "array([1.5, 1.5, 1.5])"
      ]
     },
     "execution_count": 22,
     "metadata": {},
     "output_type": "execute_result"
    }
   ],
   "source": [
    "tang_array.std(axis=0)"
   ]
  },
  {
   "cell_type": "code",
   "execution_count": 24,
   "id": "a509d496",
   "metadata": {},
   "outputs": [
    {
     "data": {
      "text/plain": [
       "array([0.81649658, 0.81649658])"
      ]
     },
     "execution_count": 24,
     "metadata": {},
     "output_type": "execute_result"
    }
   ],
   "source": [
    "tang_array.std(axis=1)"
   ]
  },
  {
   "cell_type": "code",
   "execution_count": 26,
   "id": "3ab9594c",
   "metadata": {},
   "outputs": [
    {
     "data": {
      "text/plain": [
       "2.9166666666666665"
      ]
     },
     "execution_count": 26,
     "metadata": {},
     "output_type": "execute_result"
    }
   ],
   "source": [
    "# 求方差\n",
    "tang_array.var()"
   ]
  },
  {
   "cell_type": "code",
   "execution_count": 27,
   "id": "436680e0",
   "metadata": {},
   "outputs": [
    {
     "data": {
      "text/plain": [
       "array([[2, 2, 3],\n",
       "       [4, 4, 4]])"
      ]
     },
     "execution_count": 27,
     "metadata": {},
     "output_type": "execute_result"
    }
   ],
   "source": [
    "# 比2小的全部为2，比4大的全部为4\n",
    "tang_array.clip(2,4)"
   ]
  },
  {
   "cell_type": "code",
   "execution_count": 32,
   "id": "8ed1afaa",
   "metadata": {},
   "outputs": [
    {
     "name": "stdout",
     "output_type": "stream",
     "text": [
      "[1. 4. 6.]\n"
     ]
    }
   ],
   "source": [
    "# 四舍五入\n",
    "tang_array=np.array([1.2,3.56,6.41])\n",
    "print(tang_array.round())"
   ]
  },
  {
   "cell_type": "code",
   "execution_count": 34,
   "id": "b12b972d",
   "metadata": {},
   "outputs": [
    {
     "data": {
      "text/plain": [
       "array([1.2, 3.6, 6.4])"
      ]
     },
     "execution_count": 34,
     "metadata": {},
     "output_type": "execute_result"
    }
   ],
   "source": [
    "# 还可以指定一个精度\n",
    "tang_array.round(decimals=1)"
   ]
  },
  {
   "cell_type": "code",
   "execution_count": 36,
   "id": "db6eb6f7",
   "metadata": {},
   "outputs": [
    {
     "data": {
      "text/plain": [
       "0"
      ]
     },
     "execution_count": 36,
     "metadata": {},
     "output_type": "execute_result"
    }
   ],
   "source": [
    "# 得到的是索引的位置\n",
    "tang_array.argmin()"
   ]
  },
  {
   "cell_type": "code",
   "execution_count": 40,
   "id": "1a2c5a2a",
   "metadata": {},
   "outputs": [
    {
     "data": {
      "text/plain": [
       "array([0, 0, 0], dtype=int64)"
      ]
     },
     "execution_count": 40,
     "metadata": {},
     "output_type": "execute_result"
    }
   ],
   "source": [
    "tang_array=np.array([[1,2,3],[4,5,6]])\n",
    "tang_array.argmin(axis=0)"
   ]
  },
  {
   "cell_type": "code",
   "execution_count": 42,
   "id": "b198b5ae",
   "metadata": {},
   "outputs": [
    {
     "data": {
      "text/plain": [
       "array([0, 0], dtype=int64)"
      ]
     },
     "execution_count": 42,
     "metadata": {},
     "output_type": "execute_result"
    }
   ],
   "source": [
    "tang_array.argmin(axis=1)"
   ]
  },
  {
   "cell_type": "markdown",
   "id": "9c54c0a0",
   "metadata": {},
   "source": [
    "### 1.3.4 矩阵乘法"
   ]
  },
  {
   "cell_type": "code",
   "execution_count": 56,
   "id": "f01bbdd9",
   "metadata": {},
   "outputs": [
    {
     "data": {
      "text/plain": [
       "array([10, 10])"
      ]
     },
     "execution_count": 56,
     "metadata": {},
     "output_type": "execute_result"
    }
   ],
   "source": [
    "x=np.array([5,5])\n",
    "y=np.array([2,2])\n",
    "# 对应位置元素相乘\n",
    "np.multiply(x,y)"
   ]
  },
  {
   "cell_type": "code",
   "execution_count": 57,
   "id": "18627d9c",
   "metadata": {},
   "outputs": [
    {
     "data": {
      "text/plain": [
       "20"
      ]
     },
     "execution_count": 57,
     "metadata": {},
     "output_type": "execute_result"
    }
   ],
   "source": [
    "# 矩阵乘法\n",
    "np.dot(x,y)"
   ]
  },
  {
   "cell_type": "code",
   "execution_count": 62,
   "id": "077e9d92",
   "metadata": {},
   "outputs": [
    {
     "name": "stdout",
     "output_type": "stream",
     "text": [
      "[[5]\n",
      " [5]]\n",
      "\n",
      "[[2 2]]\n"
     ]
    }
   ],
   "source": [
    "x.shape=2,1\n",
    "y.shape=1,2\n",
    "print(x)\n",
    "print()\n",
    "print(y)"
   ]
  },
  {
   "cell_type": "code",
   "execution_count": 68,
   "id": "e62c437b",
   "metadata": {},
   "outputs": [
    {
     "data": {
      "text/plain": [
       "array([[10, 10],\n",
       "       [10, 10]])"
      ]
     },
     "execution_count": 68,
     "metadata": {},
     "output_type": "execute_result"
    }
   ],
   "source": [
    "np.dot(x,y)"
   ]
  },
  {
   "cell_type": "code",
   "execution_count": 66,
   "id": "7ee7328d",
   "metadata": {},
   "outputs": [
    {
     "data": {
      "text/plain": [
       "array([[20]])"
      ]
     },
     "execution_count": 66,
     "metadata": {},
     "output_type": "execute_result"
    }
   ],
   "source": [
    "np.dot(y,x)"
   ]
  },
  {
   "cell_type": "markdown",
   "id": "957f110e",
   "metadata": {},
   "source": [
    "## 1.4 常用功能模块"
   ]
  },
  {
   "cell_type": "markdown",
   "id": "b5933036",
   "metadata": {},
   "source": [
    "### 1.4.1 排序操作"
   ]
  },
  {
   "cell_type": "code",
   "execution_count": 4,
   "id": "b9b118f4",
   "metadata": {
    "scrolled": true
   },
   "outputs": [
    {
     "data": {
      "text/plain": [
       "array([[1.3, 1.5, 7.5],\n",
       "       [5.6, 7.5, 7.8]])"
      ]
     },
     "execution_count": 4,
     "metadata": {},
     "output_type": "execute_result"
    }
   ],
   "source": [
    "import numpy as np\n",
    "tang_array=np.array([[1.5,1.3,7.5],[5.6,7.8,7.5]])\n",
    "np.sort(tang_array)"
   ]
  },
  {
   "cell_type": "code",
   "execution_count": 1,
   "id": "22dd6719",
   "metadata": {
    "scrolled": true
   },
   "outputs": [
    {
     "data": {
      "text/plain": [
       "array([[1.5, 1.3, 7.5],\n",
       "       [5.6, 7.8, 7.5]])"
      ]
     },
     "execution_count": 1,
     "metadata": {},
     "output_type": "execute_result"
    }
   ],
   "source": [
    "import numpy as np\n",
    "tang_array=np.array([[1.5,1.3,7.5],[5.6,7.8,7.5]])\n",
    "np.sort(tang_array,axis=0)"
   ]
  },
  {
   "cell_type": "code",
   "execution_count": 2,
   "id": "4a200798",
   "metadata": {
    "scrolled": false
   },
   "outputs": [
    {
     "data": {
      "text/plain": [
       "array([[1.3, 1.5, 7.5],\n",
       "       [5.6, 7.5, 7.8]])"
      ]
     },
     "execution_count": 2,
     "metadata": {},
     "output_type": "execute_result"
    }
   ],
   "source": [
    "np.sort(tang_array,axis=1)"
   ]
  },
  {
   "cell_type": "code",
   "execution_count": 4,
   "id": "b0965468",
   "metadata": {},
   "outputs": [
    {
     "data": {
      "text/plain": [
       "array([[1, 0, 2],\n",
       "       [0, 2, 1]], dtype=int64)"
      ]
     },
     "execution_count": 4,
     "metadata": {},
     "output_type": "execute_result"
    }
   ],
   "source": [
    "# 排序后获得元素的索引\n",
    "np.argsort(tang_array)"
   ]
  },
  {
   "cell_type": "code",
   "execution_count": 6,
   "id": "5113407a",
   "metadata": {},
   "outputs": [
    {
     "name": "stdout",
     "output_type": "stream",
     "text": [
      "[ 0.          1.11111111  2.22222222  3.33333333  4.44444444  5.55555556\n",
      "  6.66666667  7.77777778  8.88888889 10.        ]\n"
     ]
    }
   ],
   "source": [
    "tang_array=np.linspace(0,10,10)\n",
    "print(tang_array)"
   ]
  },
  {
   "cell_type": "code",
   "execution_count": 7,
   "id": "64dbb680",
   "metadata": {
    "scrolled": true
   },
   "outputs": [
    {
     "data": {
      "text/plain": [
       "array([3, 6, 9], dtype=int64)"
      ]
     },
     "execution_count": 7,
     "metadata": {},
     "output_type": "execute_result"
    }
   ],
   "source": [
    "values=np.array([2.5,6.5,9.5])\n",
    "# searchsorted()方法，并不是找出某个元素的位置，而是找出某个元素放在哪个位置上才能保持原有的排列顺序。\n",
    "np.searchsorted(tang_array,values)"
   ]
  },
  {
   "cell_type": "code",
   "execution_count": 11,
   "id": "03c8bf23",
   "metadata": {
    "scrolled": true
   },
   "outputs": [
    {
     "name": "stdout",
     "output_type": "stream",
     "text": [
      "[2 3 0 1]\n"
     ]
    }
   ],
   "source": [
    "tang_array=np.array([[1,0,6],[1,7,0],[2,3,1],[2,4,0]])\n",
    "# 按照第一列降序排列\n",
    "# X[:,0]就是取所有行的第0个数据, X[:,1] 就是取所有行的第1个数据。\n",
    "index=np.lexsort([-1*tang_array[:,0]])\n",
    "print(index)"
   ]
  },
  {
   "cell_type": "code",
   "execution_count": 13,
   "id": "bdfadb53",
   "metadata": {
    "scrolled": true
   },
   "outputs": [
    {
     "data": {
      "text/plain": [
       "array([[2, 3, 1],\n",
       "       [2, 4, 0],\n",
       "       [1, 0, 6],\n",
       "       [1, 7, 0]])"
      ]
     },
     "execution_count": 13,
     "metadata": {},
     "output_type": "execute_result"
    }
   ],
   "source": [
    "tang_array[index]"
   ]
  },
  {
   "cell_type": "code",
   "execution_count": 15,
   "id": "f5a55029",
   "metadata": {
    "scrolled": false
   },
   "outputs": [
    {
     "data": {
      "text/plain": [
       "array([[1, 0, 6],\n",
       "       [1, 7, 0],\n",
       "       [2, 3, 1],\n",
       "       [2, 4, 0]])"
      ]
     },
     "execution_count": 15,
     "metadata": {},
     "output_type": "execute_result"
    }
   ],
   "source": [
    "# 按照第一列升序排列\n",
    "index=np.lexsort([tang_array[:,0]])\n",
    "tang_array[index]"
   ]
  },
  {
   "cell_type": "code",
   "execution_count": 21,
   "id": "dc533d67",
   "metadata": {
    "scrolled": false
   },
   "outputs": [
    {
     "name": "stdout",
     "output_type": "stream",
     "text": [
      "[ 0  2  4  6  8 10 12 14 16 18]\n",
      "[ 1  3  5  7  9 11 13 15 17 19]\n",
      "[2 3]\n",
      "[18 19]\n",
      "[[ 1]\n",
      " [ 3]\n",
      " [ 5]\n",
      " [ 7]\n",
      " [ 9]\n",
      " [11]\n",
      " [13]\n",
      " [15]\n",
      " [17]\n",
      " [19]]\n",
      "\n",
      "[[ 1  2]\n",
      " [ 4  5]\n",
      " [ 7  8]\n",
      " [10 11]\n",
      " [13 14]\n",
      " [16 17]\n",
      " [19 20]]\n"
     ]
    }
   ],
   "source": [
    "import numpy as np\n",
    "X = np.array([[0,1],[2,3],[4,5],[6,7],[8,9],[10,11],[12,13],[14,15],[16,17],[18,19]])\n",
    "print(X[:,0])\n",
    "print(X[:,1])\n",
    "print(X[1,:])\n",
    "print(X[-1,:])\n",
    "print(X[:,1:3])\n",
    "print()\n",
    "# X[:,  m:n]，即取所有数据的第m到n-1列数据，含左不含右\n",
    "X = np.array([[0,1,2],[3,4,5],[6,7,8],[9,10,11],[12,13,14],[15,16,17],[18,19,20]])\n",
    "print(X[:,1:3])"
   ]
  },
  {
   "cell_type": "markdown",
   "id": "43950c4c",
   "metadata": {},
   "source": [
    "### 1.4.2 数组形状操作"
   ]
  },
  {
   "cell_type": "code",
   "execution_count": 3,
   "id": "10a16117",
   "metadata": {},
   "outputs": [
    {
     "name": "stdout",
     "output_type": "stream",
     "text": [
      "[0 1 2 3 4 5 6 7 8 9]\n"
     ]
    }
   ],
   "source": [
    "import numpy as np\n",
    "tang_array=np.arange(10)\n",
    "print(tang_array)"
   ]
  },
  {
   "cell_type": "code",
   "execution_count": 4,
   "id": "e4dbfd9d",
   "metadata": {},
   "outputs": [
    {
     "data": {
      "text/plain": [
       "(10,)"
      ]
     },
     "execution_count": 4,
     "metadata": {},
     "output_type": "execute_result"
    }
   ],
   "source": [
    "tang_array.shape"
   ]
  },
  {
   "cell_type": "code",
   "execution_count": 7,
   "id": "4a1f4182",
   "metadata": {},
   "outputs": [
    {
     "name": "stdout",
     "output_type": "stream",
     "text": [
      "[[0 1 2 3 4]\n",
      " [5 6 7 8 9]]\n"
     ]
    }
   ],
   "source": [
    "tang_array.shape=2,5\n",
    "print(tang_array)"
   ]
  },
  {
   "cell_type": "code",
   "execution_count": 18,
   "id": "c89fd8c6",
   "metadata": {
    "scrolled": true
   },
   "outputs": [
    {
     "name": "stdout",
     "output_type": "stream",
     "text": [
      "[[[0 1 2 3 4]\n",
      "  [5 6 7 8 9]]]\n"
     ]
    }
   ],
   "source": [
    "tang_array=np.arange(10)\n",
    "# 增加一个维度\n",
    "tang_array=tang_array[np.newaxis,:]\n",
    "print(tang_array)"
   ]
  },
  {
   "cell_type": "code",
   "execution_count": 14,
   "id": "95bbde8f",
   "metadata": {
    "scrolled": false
   },
   "outputs": [
    {
     "name": "stdout",
     "output_type": "stream",
     "text": [
      "[0 1 2 3 4 5 6 7 8 9]\n"
     ]
    }
   ],
   "source": [
    "# 将多余的维度去掉\n",
    "tang_array=tang_array.squeeze()\n",
    "print(tang_array)"
   ]
  },
  {
   "cell_type": "code",
   "execution_count": 19,
   "id": "05922303",
   "metadata": {},
   "outputs": [
    {
     "name": "stdout",
     "output_type": "stream",
     "text": [
      "[[0 5]\n",
      " [1 6]\n",
      " [2 7]\n",
      " [3 8]\n",
      " [4 9]]\n"
     ]
    }
   ],
   "source": [
    "tang_array=np.array([[0,1,2,3,4],[5,6,7,8,9]])\n",
    "print(tang_array.transpose())"
   ]
  },
  {
   "cell_type": "code",
   "execution_count": 21,
   "id": "6f15627c",
   "metadata": {},
   "outputs": [
    {
     "data": {
      "text/plain": [
       "array([[0, 5],\n",
       "       [1, 6],\n",
       "       [2, 7],\n",
       "       [3, 8],\n",
       "       [4, 9]])"
      ]
     },
     "execution_count": 21,
     "metadata": {},
     "output_type": "execute_result"
    }
   ],
   "source": [
    "tang_array.T"
   ]
  },
  {
   "cell_type": "markdown",
   "id": "63a37aa2",
   "metadata": {},
   "source": [
    "### 1.4.3 数组的拼接 "
   ]
  },
  {
   "cell_type": "code",
   "execution_count": 24,
   "id": "b56f1600",
   "metadata": {},
   "outputs": [
    {
     "name": "stdout",
     "output_type": "stream",
     "text": [
      "[[ 1  2  3]\n",
      " [ 4  5  6]\n",
      " [ 7  8  9]\n",
      " [10 11 12]]\n"
     ]
    }
   ],
   "source": [
    "a=np.array([[1,2,3],[4,5,6]])\n",
    "b=np.array([[7,8,9],[10,11,12]])\n",
    "print(np.concatenate((a,b)))"
   ]
  },
  {
   "cell_type": "code",
   "execution_count": 28,
   "id": "1812a9af",
   "metadata": {},
   "outputs": [
    {
     "data": {
      "text/plain": [
       "array([[ 1,  2,  3],\n",
       "       [ 4,  5,  6],\n",
       "       [ 7,  8,  9],\n",
       "       [10, 11, 12]])"
      ]
     },
     "execution_count": 28,
     "metadata": {},
     "output_type": "execute_result"
    }
   ],
   "source": [
    "np.concatenate((a,b),axis=0)"
   ]
  },
  {
   "cell_type": "code",
   "execution_count": 27,
   "id": "fdad033c",
   "metadata": {
    "scrolled": true
   },
   "outputs": [
    {
     "data": {
      "text/plain": [
       "array([[ 1,  2,  3,  7,  8,  9],\n",
       "       [ 4,  5,  6, 10, 11, 12]])"
      ]
     },
     "execution_count": 27,
     "metadata": {},
     "output_type": "execute_result"
    }
   ],
   "source": [
    "import numpy as np\n",
    "np.concatenate((a,b),axis=1)"
   ]
  },
  {
   "cell_type": "code",
   "execution_count": 30,
   "id": "2cda2ef2",
   "metadata": {
    "scrolled": true
   },
   "outputs": [
    {
     "data": {
      "text/plain": [
       "array([[1, 2, 3],\n",
       "       [2, 3, 4]])"
      ]
     },
     "execution_count": 30,
     "metadata": {},
     "output_type": "execute_result"
    }
   ],
   "source": [
    "d=np.array([1,2,3])\n",
    "e=np.array([2,3,4])\n",
    "np.stack((d,e))"
   ]
  },
  {
   "cell_type": "code",
   "execution_count": 32,
   "id": "919c3cf6",
   "metadata": {},
   "outputs": [
    {
     "data": {
      "text/plain": [
       "array([[ 1,  2,  3,  7,  8,  9],\n",
       "       [ 4,  5,  6, 10, 11, 12]])"
      ]
     },
     "execution_count": 32,
     "metadata": {},
     "output_type": "execute_result"
    }
   ],
   "source": [
    "# 水平拼接\n",
    "np.hstack((a,b))"
   ]
  },
  {
   "cell_type": "code",
   "execution_count": 33,
   "id": "319fa114",
   "metadata": {
    "scrolled": true
   },
   "outputs": [
    {
     "data": {
      "text/plain": [
       "array([[ 1,  2,  3],\n",
       "       [ 4,  5,  6],\n",
       "       [ 7,  8,  9],\n",
       "       [10, 11, 12]])"
      ]
     },
     "execution_count": 33,
     "metadata": {},
     "output_type": "execute_result"
    }
   ],
   "source": [
    "# 垂直拼接\n",
    "np.vstack((a,b))\n",
    "# 当数值维度等于1时，它们的作用相当于stack,用于创建新轴\n",
    "# 当数值维度大于等于2时，它们的作用相当于concatenate,用于在已有轴上进行操作"
   ]
  },
  {
   "cell_type": "code",
   "execution_count": 35,
   "id": "4a6f5390",
   "metadata": {},
   "outputs": [
    {
     "data": {
      "text/plain": [
       "array([ 7,  8,  9, 10, 11, 12])"
      ]
     },
     "execution_count": 35,
     "metadata": {},
     "output_type": "execute_result"
    }
   ],
   "source": [
    "array=np.array([[7,8,9],[10,11,12]])\n",
    "array.flatten()"
   ]
  },
  {
   "cell_type": "markdown",
   "id": "72a3adea",
   "metadata": {},
   "source": [
    "### 1.4.4 创建数组函数"
   ]
  },
  {
   "cell_type": "code",
   "execution_count": 37,
   "id": "1e303a10",
   "metadata": {},
   "outputs": [
    {
     "data": {
      "text/plain": [
       "array([ 2,  4,  6,  8, 10, 12, 14, 16, 18])"
      ]
     },
     "execution_count": 37,
     "metadata": {},
     "output_type": "execute_result"
    }
   ],
   "source": [
    "np.arange(2,20,2)"
   ]
  },
  {
   "cell_type": "code",
   "execution_count": 38,
   "id": "8151d2f4",
   "metadata": {},
   "outputs": [
    {
     "data": {
      "text/plain": [
       "array([ 1.        ,  1.77827941,  3.16227766,  5.62341325, 10.        ])"
      ]
     },
     "execution_count": 38,
     "metadata": {},
     "output_type": "execute_result"
    }
   ],
   "source": [
    "# 一些特殊点的函数也可以，默认是以十为底的\n",
    "np.logspace(0,1,5)"
   ]
  },
  {
   "cell_type": "code",
   "execution_count": 39,
   "id": "89f78815",
   "metadata": {
    "scrolled": false
   },
   "outputs": [
    {
     "data": {
      "text/plain": [
       "array([0, 1, 2, 3, 4])"
      ]
     },
     "execution_count": 39,
     "metadata": {},
     "output_type": "execute_result"
    }
   ],
   "source": [
    "# 快速创建行向量\n",
    "np.r_[0:5:1]"
   ]
  },
  {
   "cell_type": "code",
   "execution_count": 41,
   "id": "00ca4a2e",
   "metadata": {},
   "outputs": [
    {
     "data": {
      "text/plain": [
       "array([[0],\n",
       "       [1],\n",
       "       [2],\n",
       "       [3],\n",
       "       [4]])"
      ]
     },
     "execution_count": 41,
     "metadata": {},
     "output_type": "execute_result"
    }
   ],
   "source": [
    "# 快速创建列向量\n",
    "np.c_[0:5:1]"
   ]
  },
  {
   "cell_type": "code",
   "execution_count": 43,
   "id": "4d530098",
   "metadata": {},
   "outputs": [
    {
     "data": {
      "text/plain": [
       "array([0., 0., 0.])"
      ]
     },
     "execution_count": 43,
     "metadata": {},
     "output_type": "execute_result"
    }
   ],
   "source": [
    "# 创建零向量，里面包括3个元素\n",
    "np.zeros(3)"
   ]
  },
  {
   "cell_type": "code",
   "execution_count": 45,
   "id": "3ea521f7",
   "metadata": {},
   "outputs": [
    {
     "data": {
      "text/plain": [
       "array([[0., 0., 0.],\n",
       "       [0., 0., 0.],\n",
       "       [0., 0., 0.]])"
      ]
     },
     "execution_count": 45,
     "metadata": {},
     "output_type": "execute_result"
    }
   ],
   "source": [
    "np.zeros((3,3))"
   ]
  },
  {
   "cell_type": "code",
   "execution_count": 46,
   "id": "1daf8065",
   "metadata": {},
   "outputs": [
    {
     "data": {
      "text/plain": [
       "array([[8., 8., 8.],\n",
       "       [8., 8., 8.],\n",
       "       [8., 8., 8.]])"
      ]
     },
     "execution_count": 46,
     "metadata": {},
     "output_type": "execute_result"
    }
   ],
   "source": [
    "np.ones((3,3))*8"
   ]
  },
  {
   "cell_type": "code",
   "execution_count": 62,
   "id": "eaf7a360",
   "metadata": {},
   "outputs": [
    {
     "name": "stdout",
     "output_type": "stream",
     "text": [
      "[1. 1. 1. 1. 1. 1.]\n"
     ]
    }
   ],
   "source": [
    "# 可以先创建一个空的，指定好其大小，然后往里面填充值\n",
    "a=np.empty(6)\n",
    "# 用数值1来填充\n",
    "a.fill(1)\n",
    "print(a)"
   ]
  },
  {
   "cell_type": "code",
   "execution_count": 63,
   "id": "825e8d61",
   "metadata": {},
   "outputs": [
    {
     "data": {
      "text/plain": [
       "array([0, 0, 0, 0])"
      ]
     },
     "execution_count": 63,
     "metadata": {},
     "output_type": "execute_result"
    }
   ],
   "source": [
    "tang_array=np.array([1,2,3,4])\n",
    "np.zeros_like(tang_array)"
   ]
  },
  {
   "cell_type": "code",
   "execution_count": 64,
   "id": "915c1278",
   "metadata": {
    "scrolled": true
   },
   "outputs": [
    {
     "data": {
      "text/plain": [
       "array([[1., 0., 0., 0., 0.],\n",
       "       [0., 1., 0., 0., 0.],\n",
       "       [0., 0., 1., 0., 0.],\n",
       "       [0., 0., 0., 1., 0.],\n",
       "       [0., 0., 0., 0., 1.]])"
      ]
     },
     "execution_count": 64,
     "metadata": {},
     "output_type": "execute_result"
    }
   ],
   "source": [
    "np.identity(5)"
   ]
  },
  {
   "cell_type": "markdown",
   "id": "82ef1992",
   "metadata": {},
   "source": [
    "### 1.4.5 随机模块"
   ]
  },
  {
   "cell_type": "code",
   "execution_count": 66,
   "id": "279ee309",
   "metadata": {},
   "outputs": [
    {
     "data": {
      "text/plain": [
       "array([[0.86484805, 0.96174106],\n",
       "       [0.82608251, 0.81396262],\n",
       "       [0.4439737 , 0.89184802]])"
      ]
     },
     "execution_count": 66,
     "metadata": {},
     "output_type": "execute_result"
    }
   ],
   "source": [
    "# (3,2)是矩阵的大小\n",
    "np.random.rand(3,2)"
   ]
  },
  {
   "cell_type": "code",
   "execution_count": 84,
   "id": "3126840a",
   "metadata": {},
   "outputs": [
    {
     "data": {
      "text/plain": [
       "array([[7, 3, 4, 0],\n",
       "       [7, 0, 8, 2],\n",
       "       [3, 8, 4, 4],\n",
       "       [6, 5, 6, 7],\n",
       "       [2, 1, 9, 1]])"
      ]
     },
     "execution_count": 84,
     "metadata": {},
     "output_type": "execute_result"
    }
   ],
   "source": [
    "# 返回区间[0,10)的随机的整数\n",
    "np.random.randint(10,size=(5,4))"
   ]
  },
  {
   "cell_type": "code",
   "execution_count": 92,
   "id": "535c00cb",
   "metadata": {
    "scrolled": true
   },
   "outputs": [
    {
     "data": {
      "text/plain": [
       "0.3356119678107641"
      ]
     },
     "execution_count": 92,
     "metadata": {},
     "output_type": "execute_result"
    }
   ],
   "source": [
    "np.random.rand()"
   ]
  },
  {
   "cell_type": "code",
   "execution_count": 130,
   "id": "1846c284",
   "metadata": {},
   "outputs": [
    {
     "data": {
      "text/plain": [
       "array([8, 7, 8])"
      ]
     },
     "execution_count": 130,
     "metadata": {},
     "output_type": "execute_result"
    }
   ],
   "source": [
    "np.random.randint(0,10,3)"
   ]
  },
  {
   "cell_type": "code",
   "execution_count": 147,
   "id": "341c641d",
   "metadata": {},
   "outputs": [
    {
     "data": {
      "text/plain": [
       "array([-0.17046512, -0.1136261 , -0.29733155,  0.00333173, -0.02488887,\n",
       "       -0.04501764,  0.01324278,  0.00222139,  0.0317368 , -0.07524142])"
      ]
     },
     "execution_count": 147,
     "metadata": {},
     "output_type": "execute_result"
    }
   ],
   "source": [
    "# np.random.normal(loc=mu, scale=sigma, size=1000)\n",
    "# np.random.normal()的意思是一个正态分布，normal这里是正态的意思。\n",
    "np.random.normal(0,0.1,10)"
   ]
  },
  {
   "attachments": {
    "image.png": {
     "image/png": "[encoded data removed]"
    }
   },
   "cell_type": "markdown",
   "id": "876377a5",
   "metadata": {},
   "source": [
    "![image.png](attachment:image.png)"
   ]
  },
  {
   "cell_type": "markdown",
   "id": "ed9eaaaa",
   "metadata": {},
   "source": [
    "np.set_printoptions(precision=None, threshold=None,  linewidth=None, suppress=None, formatter=None)\n",
    "\n",
    "1.precision：控制输出结果的精度(即小数点后的位数)，默认值为8\n",
    "\n",
    "2.threshold：当数组元素总数过大时，设置显示的数字位数，其余用省略号代替(当数组元素总数大于设置值，控制输出值得个数为6个，当数组元素小于或者等于设置值得时候，全部显示)，当设置值为sys.maxsize(需要导入sys库)，则会输出所有元素\n",
    "\n",
    "3.linewidth：每行字符的数目，其余的数值会换到下一行\n",
    "\n",
    "4.suppress：小数是否需要以科学计数法的形式输出\n",
    "\n",
    "5.formatter：自定义输出规则"
   ]
  },
  {
   "cell_type": "code",
   "execution_count": 150,
   "id": "5aa2a223",
   "metadata": {},
   "outputs": [
    {
     "data": {
      "text/plain": [
       "array([-0.15, -0.12,  0.13,  0.1 , -0.12, -0.02, -0.15,  0.01,  0.07,\n",
       "        0.04])"
      ]
     },
     "execution_count": 150,
     "metadata": {},
     "output_type": "execute_result"
    }
   ],
   "source": [
    "np.set_printoptions(precision=2)\n",
    "np.random.normal(0,0.1,10)"
   ]
  },
  {
   "cell_type": "code",
   "execution_count": 173,
   "id": "c726f491",
   "metadata": {
    "scrolled": false
   },
   "outputs": [
    {
     "name": "stdout",
     "output_type": "stream",
     "text": [
      "[8 4 2 7 3 9 0 5 6 1]\n"
     ]
    }
   ],
   "source": [
    "tang_array=np.arange(10)\n",
    "# np.random,shuffle作用就是重新排序返回一个随机序列作用类似洗牌\n",
    "np.random.shuffle(tang_array)\n",
    "print(tang_array)"
   ]
  },
  {
   "cell_type": "code",
   "execution_count": 179,
   "id": "7b362b1c",
   "metadata": {},
   "outputs": [
    {
     "data": {
      "text/plain": [
       "array([-0.17,  0.03,  0.12, -0.03,  0.1 ,  0.05,  0.02, -0.11, -0.02,\n",
       "        0.03])"
      ]
     },
     "execution_count": 179,
     "metadata": {},
     "output_type": "execute_result"
    }
   ],
   "source": [
    "# np.random.seed()函数用于生成指定随机数。\n",
    "# seed()被设置了之后，np,random.random()可以按顺序产生一组固定的数组\n",
    "# 如果使用相同的seed()值，则每次生成的随机数都相同，如果不设置这个值，那么每次生成的随机数不同。\n",
    "np.random.seed(100)\n",
    "np.random.normal(0,0.1,10)"
   ]
  },
  {
   "cell_type": "markdown",
   "id": "fe296062",
   "metadata": {},
   "source": [
    "### 1.4.6 文件读写"
   ]
  },
  {
   "cell_type": "code",
   "execution_count": 191,
   "id": "c6da1eae",
   "metadata": {
    "scrolled": false
   },
   "outputs": [
    {
     "name": "stdout",
     "output_type": "stream",
     "text": [
      "Overwriting SunYu.txt\n"
     ]
    }
   ],
   "source": [
    "%%writefile SunYu.txt\n",
    "1 2 3 4 5 6\n",
    "2 3 4 5 6 7"
   ]
  },
  {
   "cell_type": "code",
   "execution_count": 193,
   "id": "347ed928",
   "metadata": {
    "scrolled": true
   },
   "outputs": [
    {
     "name": "stdout",
     "output_type": "stream",
     "text": [
      "[[1. 2. 3. 4. 5. 6.]\n",
      " [2. 3. 4. 5. 6. 7.]]\n"
     ]
    }
   ],
   "source": [
    "data=[]\n",
    "with open('SunYu.txt') as f:\n",
    "# readline() 方法用于从文件读取整行，包括 \"\\n\" 字符。如果指定了一个非负数的参数，则返回指定大小的字节数，包括 \"\\n\" 字符。\n",
    "    for line in f.readlines():\n",
    "        fileds=line.split()\n",
    "        cur_data=[float(x) for x in fileds]\n",
    "        data.append(cur_data)\n",
    "data=np.array(data)\n",
    "print(data)"
   ]
  },
  {
   "cell_type": "markdown",
   "id": "742b8e78",
   "metadata": {},
   "source": [
    "np.loadtxt(filepath,delimiter,usecols,unpack)\n",
    "\n",
    "loadtxt(fname, dtype=<class 'float'>, comments='#', delimiter=None, converters=None, skiprows=0, usecols=None, unpack=False, ndmin=0)\n",
    "\n",
    "filepath:加载文件路径\n",
    "\n",
    "delimiter:加载文件分隔符,默认是空格\n",
    "\n",
    "skiprows跳过前几行读取，默认是0，必须是int整型。\n",
    "\n",
    "usecols:加载数据文件中列索引\n",
    "\n",
    "unpack:当加载多列数据时是否需要将数据列进行解耦赋值给不同的变量，如果为True，将分列读取。"
   ]
  },
  {
   "cell_type": "code",
   "execution_count": 198,
   "id": "7dd5e325",
   "metadata": {
    "scrolled": false
   },
   "outputs": [
    {
     "name": "stdout",
     "output_type": "stream",
     "text": [
      "[[1. 2. 3. 4. 5. 6.]\n",
      " [2. 3. 4. 5. 6. 7.]]\n"
     ]
    }
   ],
   "source": [
    "data=np.loadtxt('SunYu.txt')\n",
    "print(data)"
   ]
  },
  {
   "cell_type": "code",
   "execution_count": 204,
   "id": "f768031c",
   "metadata": {},
   "outputs": [
    {
     "name": "stdout",
     "output_type": "stream",
     "text": [
      "Overwriting SunYu2.txt\n"
     ]
    }
   ],
   "source": [
    "%%writefile SunYu2.txt\n",
    "x,y,z,w,a,b\n",
    "1,2,3,4,5,6\n",
    "2,3,5,8,7,9"
   ]
  },
  {
   "cell_type": "code",
   "execution_count": 205,
   "id": "8617babc",
   "metadata": {},
   "outputs": [
    {
     "name": "stdout",
     "output_type": "stream",
     "text": [
      "[[1. 2. 3. 4. 5. 6.]\n",
      " [2. 3. 5. 8. 7. 9.]]\n"
     ]
    }
   ],
   "source": [
    "# 可以指定去掉前几行\n",
    "data=np.loadtxt('SunYu2.txt',delimiter=',',skiprows=1)\n",
    "print(data)"
   ]
  },
  {
   "cell_type": "code",
   "execution_count": 206,
   "id": "e7825984",
   "metadata": {
    "scrolled": true
   },
   "outputs": [
    {
     "name": "stdout",
     "output_type": "stream",
     "text": [
      "Help on function loadtxt in module numpy:\n",
      "\n",
      "loadtxt(fname, dtype=<class 'float'>, comments='#', delimiter=None, converters=None, skiprows=0, usecols=None, unpack=False, ndmin=0, encoding='bytes', max_rows=None, *, like=None)\n",
      "    Load data from a text file.\n",
      "    \n",
      "    Each row in the text file must have the same number of values.\n",
      "    \n",
      "    Parameters\n",
      "    ----------\n",
      "    fname : file, str, pathlib.Path, list of str, generator\n",
      "        File, filename, list, or generator to read.  If the filename\n",
      "        extension is ``.gz`` or ``.bz2``, the file is first decompressed. Note\n",
      "        that generators must return bytes or strings. The strings\n",
      "        in a list or produced by a generator are treated as lines.\n",
      "    dtype : data-type, optional\n",
      "        Data-type of the resulting array; default: float.  If this is a\n",
      "        structured data-type, the resulting array will be 1-dimensional, and\n",
      "        each row will be interpreted as an element of the array.  In this\n",
      "        case, the number of columns used must match the number of fields in\n",
      "        the data-type.\n",
      "    comments : str or sequence of str, optional\n",
      "        The characters or list of characters used to indicate the start of a\n",
      "        comment. None implies no comments. For backwards compatibility, byte\n",
      "        strings will be decoded as 'latin1'. The default is '#'.\n",
      "    delimiter : str, optional\n",
      "        The string used to separate values. For backwards compatibility, byte\n",
      "        strings will be decoded as 'latin1'. The default is whitespace.\n",
      "    converters : dict, optional\n",
      "        A dictionary mapping column number to a function that will parse the\n",
      "        column string into the desired value.  E.g., if column 0 is a date\n",
      "        string: ``converters = {0: datestr2num}``.  Converters can also be\n",
      "        used to provide a default value for missing data (but see also\n",
      "        `genfromtxt`): ``converters = {3: lambda s: float(s.strip() or 0)}``.\n",
      "        Default: None.\n",
      "    skiprows : int, optional\n",
      "        Skip the first `skiprows` lines, including comments; default: 0.\n",
      "    usecols : int or sequence, optional\n",
      "        Which columns to read, with 0 being the first. For example,\n",
      "        ``usecols = (1,4,5)`` will extract the 2nd, 5th and 6th columns.\n",
      "        The default, None, results in all columns being read.\n",
      "    \n",
      "        .. versionchanged:: 1.11.0\n",
      "            When a single column has to be read it is possible to use\n",
      "            an integer instead of a tuple. E.g ``usecols = 3`` reads the\n",
      "            fourth column the same way as ``usecols = (3,)`` would.\n",
      "    unpack : bool, optional\n",
      "        If True, the returned array is transposed, so that arguments may be\n",
      "        unpacked using ``x, y, z = loadtxt(...)``.  When used with a\n",
      "        structured data-type, arrays are returned for each field.\n",
      "        Default is False.\n",
      "    ndmin : int, optional\n",
      "        The returned array will have at least `ndmin` dimensions.\n",
      "        Otherwise mono-dimensional axes will be squeezed.\n",
      "        Legal values: 0 (default), 1 or 2.\n",
      "    \n",
      "        .. versionadded:: 1.6.0\n",
      "    encoding : str, optional\n",
      "        Encoding used to decode the inputfile. Does not apply to input streams.\n",
      "        The special value 'bytes' enables backward compatibility workarounds\n",
      "        that ensures you receive byte arrays as results if possible and passes\n",
      "        'latin1' encoded strings to converters. Override this value to receive\n",
      "        unicode arrays and pass strings as input to converters.  If set to None\n",
      "        the system default is used. The default value is 'bytes'.\n",
      "    \n",
      "        .. versionadded:: 1.14.0\n",
      "    max_rows : int, optional\n",
      "        Read `max_rows` lines of content after `skiprows` lines. The default\n",
      "        is to read all the lines.\n",
      "    \n",
      "        .. versionadded:: 1.16.0\n",
      "    like : array_like\n",
      "        Reference object to allow the creation of arrays which are not\n",
      "        NumPy arrays. If an array-like passed in as ``like`` supports\n",
      "        the ``__array_function__`` protocol, the result will be defined\n",
      "        by it. In this case, it ensures the creation of an array object\n",
      "        compatible with that passed in via this argument.\n",
      "    \n",
      "        .. versionadded:: 1.20.0\n",
      "    \n",
      "    Returns\n",
      "    -------\n",
      "    out : ndarray\n",
      "        Data read from the text file.\n",
      "    \n",
      "    See Also\n",
      "    --------\n",
      "    load, fromstring, fromregex\n",
      "    genfromtxt : Load data with missing values handled as specified.\n",
      "    scipy.io.loadmat : reads MATLAB data files\n",
      "    \n",
      "    Notes\n",
      "    -----\n",
      "    This function aims to be a fast reader for simply formatted files.  The\n",
      "    `genfromtxt` function provides more sophisticated handling of, e.g.,\n",
      "    lines with missing values.\n",
      "    \n",
      "    .. versionadded:: 1.10.0\n",
      "    \n",
      "    The strings produced by the Python float.hex method can be used as\n",
      "    input for floats.\n",
      "    \n",
      "    Examples\n",
      "    --------\n",
      "    >>> from io import StringIO   # StringIO behaves like a file object\n",
      "    >>> c = StringIO(\"0 1\\n2 3\")\n",
      "    >>> np.loadtxt(c)\n",
      "    array([[0., 1.],\n",
      "           [2., 3.]])\n",
      "    \n",
      "    >>> d = StringIO(\"M 21 72\\nF 35 58\")\n",
      "    >>> np.loadtxt(d, dtype={'names': ('gender', 'age', 'weight'),\n",
      "    ...                      'formats': ('S1', 'i4', 'f4')})\n",
      "    array([(b'M', 21, 72.), (b'F', 35, 58.)],\n",
      "          dtype=[('gender', 'S1'), ('age', '<i4'), ('weight', '<f4')])\n",
      "    \n",
      "    >>> c = StringIO(\"1,0,2\\n3,0,4\")\n",
      "    >>> x, y = np.loadtxt(c, delimiter=',', usecols=(0, 2), unpack=True)\n",
      "    >>> x\n",
      "    array([1., 3.])\n",
      "    >>> y\n",
      "    array([2., 4.])\n",
      "    \n",
      "    This example shows how `converters` can be used to convert a field\n",
      "    with a trailing minus sign into a negative number.\n",
      "    \n",
      "    >>> s = StringIO('10.01 31.25-\\n19.22 64.31\\n17.57- 63.94')\n",
      "    >>> def conv(fld):\n",
      "    ...     return -float(fld[:-1]) if fld.endswith(b'-') else float(fld)\n",
      "    ...\n",
      "    >>> np.loadtxt(s, converters={0: conv, 1: conv})\n",
      "    array([[ 10.01, -31.25],\n",
      "           [ 19.22,  64.31],\n",
      "           [-17.57,  63.94]])\n",
      "\n",
      "None\n"
     ]
    }
   ],
   "source": [
    "print(help(np.loadtxt))"
   ]
  },
  {
   "cell_type": "markdown",
   "id": "f195e40e",
   "metadata": {},
   "source": [
    "np.savetxt('data/task.txt', self.task, fmt=\"%d\", delimiter=\" \")\n",
    "\n",
    "data/task.txt：参数为文件路径以及TXT文本名\n",
    "\n",
    "self.task： 为要保存的数组名\n",
    "\n",
    "fmt=\"%d\"： 为指定保存的文件格式，这里为十进制\n",
    "\n",
    "delimiter=\" \"表示分隔符，这里以空格的形式隔开"
   ]
  },
  {
   "cell_type": "code",
   "execution_count": 207,
   "id": "56929560",
   "metadata": {},
   "outputs": [],
   "source": [
    "np.savetxt('SunYu4.txt',tang_array,fmt='%d',delimiter=',')"
   ]
  },
  {
   "cell_type": "code",
   "execution_count": 208,
   "id": "da138f36",
   "metadata": {},
   "outputs": [
    {
     "data": {
      "text/plain": [
       "array([[1, 2, 3],\n",
       "       [4, 5, 6]])"
      ]
     },
     "execution_count": 208,
     "metadata": {},
     "output_type": "execute_result"
    }
   ],
   "source": [
    "tang_array=np.array([[1,2,3],[4,5,6]])\n",
    "# 把结果保存为npy格式\n",
    "np.save('SunYu.npy',tang_array)\n",
    "# 读取之前保存的结果，依旧是Numpy的数组格式\n",
    "np.load('SunYu.npy')"
   ]
  }
 ],
 "metadata": {
  "kernelspec": {
   "display_name": "Python 3 (ipykernel)",
   "language": "python",
   "name": "python3"
  },
  "language_info": {
   "codemirror_mode": {
    "name": "ipython",
    "version": 3
   },
   "file_extension": ".py",
   "mimetype": "text/x-python",
   "name": "python",
   "nbconvert_exporter": "python",
   "pygments_lexer": "ipython3",
   "version": "3.8.3"
  }
 },
 "nbformat": 4,
 "nbformat_minor": 5
}
